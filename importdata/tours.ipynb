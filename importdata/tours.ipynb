{
 "cells": [
  {
   "cell_type": "code",
   "execution_count": 1,
   "metadata": {},
   "outputs": [],
   "source": [
    "#importing libraries\n",
    "import pandas as pd\n",
    "import numpy as np"
   ]
  },
  {
   "cell_type": "code",
   "execution_count": 3,
   "metadata": {},
   "outputs": [
    {
     "data": {
      "text/html": [
       "<div>\n",
       "<style scoped>\n",
       "    .dataframe tbody tr th:only-of-type {\n",
       "        vertical-align: middle;\n",
       "    }\n",
       "\n",
       "    .dataframe tbody tr th {\n",
       "        vertical-align: top;\n",
       "    }\n",
       "\n",
       "    .dataframe thead th {\n",
       "        text-align: right;\n",
       "    }\n",
       "</style>\n",
       "<table border=\"1\" class=\"dataframe\">\n",
       "  <thead>\n",
       "    <tr style=\"text-align: right;\">\n",
       "      <th></th>\n",
       "      <th>Unnamed: 0</th>\n",
       "      <th>city_name</th>\n",
       "      <th>Overview</th>\n",
       "      <th>Destination_type</th>\n",
       "      <th>Attraction</th>\n",
       "    </tr>\n",
       "  </thead>\n",
       "  <tbody>\n",
       "    <tr>\n",
       "      <th>0</th>\n",
       "      <td>0</td>\n",
       "      <td>1. Delhi City</td>\n",
       "      <td>At a distance of 1,474 km from Mumbai, 1,462 k...</td>\n",
       "      <td>Historical &amp; Heritage</td>\n",
       "      <td>Delhi City Attractions</td>\n",
       "    </tr>\n",
       "    <tr>\n",
       "      <th>1</th>\n",
       "      <td>1</td>\n",
       "      <td>2. Agra</td>\n",
       "      <td>At a distance of 214 km from Delhi, 242 km fro...</td>\n",
       "      <td>City</td>\n",
       "      <td>Agra Attractions</td>\n",
       "    </tr>\n",
       "    <tr>\n",
       "      <th>2</th>\n",
       "      <td>2</td>\n",
       "      <td>3. Panjim</td>\n",
       "      <td>Goa is India's smallest state by area and the ...</td>\n",
       "      <td>City</td>\n",
       "      <td>Panjim Attractions</td>\n",
       "    </tr>\n",
       "    <tr>\n",
       "      <th>3</th>\n",
       "      <td>3</td>\n",
       "      <td>4. Varanasi</td>\n",
       "      <td>At a distance of 125 km from Allahabad, 163 km...</td>\n",
       "      <td>Pilgrimage</td>\n",
       "      <td>Varanasi Attractions</td>\n",
       "    </tr>\n",
       "    <tr>\n",
       "      <th>4</th>\n",
       "      <td>4</td>\n",
       "      <td>5. Shimla</td>\n",
       "      <td>Often called the 'Queen of Hills', Shimla is a...</td>\n",
       "      <td>Hill Station</td>\n",
       "      <td>Shimla Attractions</td>\n",
       "    </tr>\n",
       "  </tbody>\n",
       "</table>\n",
       "</div>"
      ],
      "text/plain": [
       "   Unnamed: 0      city_name  \\\n",
       "0           0  1. Delhi City   \n",
       "1           1        2. Agra   \n",
       "2           2      3. Panjim   \n",
       "3           3    4. Varanasi   \n",
       "4           4      5. Shimla   \n",
       "\n",
       "                                            Overview       Destination_type  \\\n",
       "0  At a distance of 1,474 km from Mumbai, 1,462 k...  Historical & Heritage   \n",
       "1  At a distance of 214 km from Delhi, 242 km fro...                   City   \n",
       "2  Goa is India's smallest state by area and the ...                   City   \n",
       "3  At a distance of 125 km from Allahabad, 163 km...             Pilgrimage   \n",
       "4  Often called the 'Queen of Hills', Shimla is a...           Hill Station   \n",
       "\n",
       "               Attraction  \n",
       "0  Delhi City Attractions  \n",
       "1        Agra Attractions  \n",
       "2      Panjim Attractions  \n",
       "3    Varanasi Attractions  \n",
       "4      Shimla Attractions  "
      ]
     },
     "execution_count": 3,
     "metadata": {},
     "output_type": "execute_result"
    }
   ],
   "source": [
    "dataset=pd.read_csv(\"C:/Users/saket/Downloads/Cities.csv\")\n",
    "dataset.head()"
   ]
  },
  {
   "cell_type": "code",
   "execution_count": 4,
   "metadata": {},
   "outputs": [
    {
     "data": {
      "text/html": [
       "<div>\n",
       "<style scoped>\n",
       "    .dataframe tbody tr th:only-of-type {\n",
       "        vertical-align: middle;\n",
       "    }\n",
       "\n",
       "    .dataframe tbody tr th {\n",
       "        vertical-align: top;\n",
       "    }\n",
       "\n",
       "    .dataframe thead th {\n",
       "        text-align: right;\n",
       "    }\n",
       "</style>\n",
       "<table border=\"1\" class=\"dataframe\">\n",
       "  <thead>\n",
       "    <tr style=\"text-align: right;\">\n",
       "      <th></th>\n",
       "      <th>city_name</th>\n",
       "      <th>Overview</th>\n",
       "      <th>Destination_type</th>\n",
       "      <th>Attraction</th>\n",
       "    </tr>\n",
       "  </thead>\n",
       "  <tbody>\n",
       "    <tr>\n",
       "      <th>0</th>\n",
       "      <td>1. Delhi City</td>\n",
       "      <td>At a distance of 1,474 km from Mumbai, 1,462 k...</td>\n",
       "      <td>Historical &amp; Heritage</td>\n",
       "      <td>Delhi City Attractions</td>\n",
       "    </tr>\n",
       "    <tr>\n",
       "      <th>1</th>\n",
       "      <td>2. Agra</td>\n",
       "      <td>At a distance of 214 km from Delhi, 242 km fro...</td>\n",
       "      <td>City</td>\n",
       "      <td>Agra Attractions</td>\n",
       "    </tr>\n",
       "    <tr>\n",
       "      <th>2</th>\n",
       "      <td>3. Panjim</td>\n",
       "      <td>Goa is India's smallest state by area and the ...</td>\n",
       "      <td>City</td>\n",
       "      <td>Panjim Attractions</td>\n",
       "    </tr>\n",
       "    <tr>\n",
       "      <th>3</th>\n",
       "      <td>4. Varanasi</td>\n",
       "      <td>At a distance of 125 km from Allahabad, 163 km...</td>\n",
       "      <td>Pilgrimage</td>\n",
       "      <td>Varanasi Attractions</td>\n",
       "    </tr>\n",
       "    <tr>\n",
       "      <th>4</th>\n",
       "      <td>5. Shimla</td>\n",
       "      <td>Often called the 'Queen of Hills', Shimla is a...</td>\n",
       "      <td>Hill Station</td>\n",
       "      <td>Shimla Attractions</td>\n",
       "    </tr>\n",
       "  </tbody>\n",
       "</table>\n",
       "</div>"
      ],
      "text/plain": [
       "       city_name                                           Overview  \\\n",
       "0  1. Delhi City  At a distance of 1,474 km from Mumbai, 1,462 k...   \n",
       "1        2. Agra  At a distance of 214 km from Delhi, 242 km fro...   \n",
       "2      3. Panjim  Goa is India's smallest state by area and the ...   \n",
       "3    4. Varanasi  At a distance of 125 km from Allahabad, 163 km...   \n",
       "4      5. Shimla  Often called the 'Queen of Hills', Shimla is a...   \n",
       "\n",
       "        Destination_type              Attraction  \n",
       "0  Historical & Heritage  Delhi City Attractions  \n",
       "1                   City        Agra Attractions  \n",
       "2                   City      Panjim Attractions  \n",
       "3             Pilgrimage    Varanasi Attractions  \n",
       "4           Hill Station      Shimla Attractions  "
      ]
     },
     "execution_count": 4,
     "metadata": {},
     "output_type": "execute_result"
    }
   ],
   "source": [
    "# dataset=dataset['city_name','Overview','Destination_type','Attr']\n",
    "dataset=dataset[dataset.columns[1:]]\n",
    "dataset.head()\n",
    "# df.head()"
   ]
  },
  {
   "cell_type": "code",
   "execution_count": 5,
   "metadata": {},
   "outputs": [
    {
     "data": {
      "text/html": [
       "<div>\n",
       "<style scoped>\n",
       "    .dataframe tbody tr th:only-of-type {\n",
       "        vertical-align: middle;\n",
       "    }\n",
       "\n",
       "    .dataframe tbody tr th {\n",
       "        vertical-align: top;\n",
       "    }\n",
       "\n",
       "    .dataframe thead th {\n",
       "        text-align: right;\n",
       "    }\n",
       "</style>\n",
       "<table border=\"1\" class=\"dataframe\">\n",
       "  <thead>\n",
       "    <tr style=\"text-align: right;\">\n",
       "      <th></th>\n",
       "      <th>city_name</th>\n",
       "      <th>Destination_type</th>\n",
       "    </tr>\n",
       "  </thead>\n",
       "  <tbody>\n",
       "    <tr>\n",
       "      <th>0</th>\n",
       "      <td>1. Delhi City</td>\n",
       "      <td>Historical &amp; Heritage</td>\n",
       "    </tr>\n",
       "    <tr>\n",
       "      <th>1</th>\n",
       "      <td>2. Agra</td>\n",
       "      <td>City</td>\n",
       "    </tr>\n",
       "    <tr>\n",
       "      <th>2</th>\n",
       "      <td>3. Panjim</td>\n",
       "      <td>City</td>\n",
       "    </tr>\n",
       "    <tr>\n",
       "      <th>3</th>\n",
       "      <td>4. Varanasi</td>\n",
       "      <td>Pilgrimage</td>\n",
       "    </tr>\n",
       "    <tr>\n",
       "      <th>4</th>\n",
       "      <td>5. Shimla</td>\n",
       "      <td>Hill Station</td>\n",
       "    </tr>\n",
       "  </tbody>\n",
       "</table>\n",
       "</div>"
      ],
      "text/plain": [
       "       city_name       Destination_type\n",
       "0  1. Delhi City  Historical & Heritage\n",
       "1        2. Agra                   City\n",
       "2      3. Panjim                   City\n",
       "3    4. Varanasi             Pilgrimage\n",
       "4      5. Shimla           Hill Station"
      ]
     },
     "execution_count": 5,
     "metadata": {},
     "output_type": "execute_result"
    }
   ],
   "source": [
    "df=dataset[['city_name','Destination_type']]\n",
    "df.head()"
   ]
  },
  {
   "cell_type": "code",
   "execution_count": 6,
   "metadata": {},
   "outputs": [
    {
     "data": {
      "text/plain": [
       "city_name           100\n",
       "Destination_type     10\n",
       "dtype: int64"
      ]
     },
     "execution_count": 6,
     "metadata": {},
     "output_type": "execute_result"
    }
   ],
   "source": [
    "# df.groupby(['Destination_type'])\n",
    "df.nunique()"
   ]
  },
  {
   "cell_type": "code",
   "execution_count": 7,
   "metadata": {},
   "outputs": [
    {
     "data": {
      "text/plain": [
       "array(['Historical & Heritage', 'City', 'Pilgrimage', 'Hill Station',\n",
       "       'Beach', 'Lake & Backwater', 'Wildlife', 'Waterfall',\n",
       "       'Nature & Scenic', 'Adventure / Trekking'], dtype=object)"
      ]
     },
     "execution_count": 7,
     "metadata": {},
     "output_type": "execute_result"
    }
   ],
   "source": [
    "df['Destination_type'].unique()"
   ]
  },
  {
   "cell_type": "code",
   "execution_count": 8,
   "metadata": {},
   "outputs": [],
   "source": [
    "arr=['Hill Station',\n",
    "       'Beach', 'Lake & Backwater', 'Waterfall',\n",
    "       'Nature & Scenic', 'Adventure / Trekking']"
   ]
  },
  {
   "cell_type": "code",
   "execution_count": 9,
   "metadata": {},
   "outputs": [],
   "source": [
    "arr1=['Historical & Heritage', 'City', 'Pilgrimage']"
   ]
  },
  {
   "cell_type": "code",
   "execution_count": 10,
   "metadata": {},
   "outputs": [
    {
     "name": "stdout",
     "output_type": "stream",
     "text": [
      "Hill Station :  23\n",
      "Beach :  7\n",
      "Lake & Backwater :  2\n",
      "Waterfall :  3\n",
      "Nature & Scenic :  1\n",
      "Adventure / Trekking :  1\n",
      "Total places:  37\n"
     ]
    }
   ],
   "source": [
    "sum=0\n",
    "for i in range(len(arr)):\n",
    "    val=len(df[df['Destination_type']==arr[i]])\n",
    "    print(arr[i],\": \",val)\n",
    "    sum+=val\n",
    "print(\"Total places: \",sum)"
   ]
  },
  {
   "cell_type": "code",
   "execution_count": 11,
   "metadata": {},
   "outputs": [
    {
     "name": "stdout",
     "output_type": "stream",
     "text": [
      "Historical & Heritage :  29\n",
      "City :  6\n",
      "Pilgrimage :  20\n",
      "Total places:  55\n"
     ]
    }
   ],
   "source": [
    "sum=0\n",
    "for i in range(len(arr1)):\n",
    "    val=len(df[df['Destination_type']==arr1[i]])\n",
    "    print(arr1[i],\": \",val)\n",
    "    sum+=val\n",
    "print(\"Total places: \",sum)"
   ]
  },
  {
   "cell_type": "code",
   "execution_count": 12,
   "metadata": {},
   "outputs": [
    {
     "name": "stderr",
     "output_type": "stream",
     "text": [
      "C:\\Users\\saket\\AppData\\Local\\Temp\\ipykernel_9360\\3009702550.py:3: FutureWarning: The frame.append method is deprecated and will be removed from pandas in a future version. Use pandas.concat instead.\n",
      "  places = places.append(dataset[dataset['Destination_type']==arr[i]])\n",
      "C:\\Users\\saket\\AppData\\Local\\Temp\\ipykernel_9360\\3009702550.py:3: FutureWarning: The frame.append method is deprecated and will be removed from pandas in a future version. Use pandas.concat instead.\n",
      "  places = places.append(dataset[dataset['Destination_type']==arr[i]])\n",
      "C:\\Users\\saket\\AppData\\Local\\Temp\\ipykernel_9360\\3009702550.py:3: FutureWarning: The frame.append method is deprecated and will be removed from pandas in a future version. Use pandas.concat instead.\n",
      "  places = places.append(dataset[dataset['Destination_type']==arr[i]])\n",
      "C:\\Users\\saket\\AppData\\Local\\Temp\\ipykernel_9360\\3009702550.py:3: FutureWarning: The frame.append method is deprecated and will be removed from pandas in a future version. Use pandas.concat instead.\n",
      "  places = places.append(dataset[dataset['Destination_type']==arr[i]])\n",
      "C:\\Users\\saket\\AppData\\Local\\Temp\\ipykernel_9360\\3009702550.py:3: FutureWarning: The frame.append method is deprecated and will be removed from pandas in a future version. Use pandas.concat instead.\n",
      "  places = places.append(dataset[dataset['Destination_type']==arr[i]])\n",
      "C:\\Users\\saket\\AppData\\Local\\Temp\\ipykernel_9360\\3009702550.py:3: FutureWarning: The frame.append method is deprecated and will be removed from pandas in a future version. Use pandas.concat instead.\n",
      "  places = places.append(dataset[dataset['Destination_type']==arr[i]])\n"
     ]
    },
    {
     "data": {
      "text/html": [
       "<div>\n",
       "<style scoped>\n",
       "    .dataframe tbody tr th:only-of-type {\n",
       "        vertical-align: middle;\n",
       "    }\n",
       "\n",
       "    .dataframe tbody tr th {\n",
       "        vertical-align: top;\n",
       "    }\n",
       "\n",
       "    .dataframe thead th {\n",
       "        text-align: right;\n",
       "    }\n",
       "</style>\n",
       "<table border=\"1\" class=\"dataframe\">\n",
       "  <thead>\n",
       "    <tr style=\"text-align: right;\">\n",
       "      <th></th>\n",
       "      <th>city_name</th>\n",
       "      <th>Overview</th>\n",
       "      <th>Destination_type</th>\n",
       "      <th>Attraction</th>\n",
       "    </tr>\n",
       "  </thead>\n",
       "  <tbody>\n",
       "    <tr>\n",
       "      <th>4</th>\n",
       "      <td>5. Shimla</td>\n",
       "      <td>Often called the 'Queen of Hills', Shimla is a...</td>\n",
       "      <td>Hill Station</td>\n",
       "      <td>Shimla Attractions</td>\n",
       "    </tr>\n",
       "    <tr>\n",
       "      <th>6</th>\n",
       "      <td>7. Ooty</td>\n",
       "      <td>Often referred to as Queen of hill stations, O...</td>\n",
       "      <td>Hill Station</td>\n",
       "      <td>Ooty Attractions</td>\n",
       "    </tr>\n",
       "    <tr>\n",
       "      <th>10</th>\n",
       "      <td>11. Munnar</td>\n",
       "      <td>Situated at an altitude ranging from 5000 to 8...</td>\n",
       "      <td>Hill Station</td>\n",
       "      <td>Munnar Attractions</td>\n",
       "    </tr>\n",
       "    <tr>\n",
       "      <th>12</th>\n",
       "      <td>13. Manali</td>\n",
       "      <td>Manali is a breathtakingly beautiful hill stat...</td>\n",
       "      <td>Hill Station</td>\n",
       "      <td>Manali Attractions</td>\n",
       "    </tr>\n",
       "    <tr>\n",
       "      <th>16</th>\n",
       "      <td>17. Nainital</td>\n",
       "      <td>Situated at the Kumaon foothills of Himalayas,...</td>\n",
       "      <td>Hill Station</td>\n",
       "      <td>Nainital Attractions</td>\n",
       "    </tr>\n",
       "  </tbody>\n",
       "</table>\n",
       "</div>"
      ],
      "text/plain": [
       "       city_name                                           Overview  \\\n",
       "4      5. Shimla  Often called the 'Queen of Hills', Shimla is a...   \n",
       "6        7. Ooty  Often referred to as Queen of hill stations, O...   \n",
       "10    11. Munnar  Situated at an altitude ranging from 5000 to 8...   \n",
       "12    13. Manali  Manali is a breathtakingly beautiful hill stat...   \n",
       "16  17. Nainital  Situated at the Kumaon foothills of Himalayas,...   \n",
       "\n",
       "   Destination_type            Attraction  \n",
       "4      Hill Station    Shimla Attractions  \n",
       "6      Hill Station      Ooty Attractions  \n",
       "10     Hill Station    Munnar Attractions  \n",
       "12     Hill Station    Manali Attractions  \n",
       "16     Hill Station  Nainital Attractions  "
      ]
     },
     "execution_count": 12,
     "metadata": {},
     "output_type": "execute_result"
    }
   ],
   "source": [
    "places=pd.DataFrame()\n",
    "for i in range(len(arr)):\n",
    "    places = places.append(dataset[dataset['Destination_type']==arr[i]])\n",
    "    # print(\"\\n\")\n",
    "places.head()"
   ]
  },
  {
   "cell_type": "code",
   "execution_count": 13,
   "metadata": {},
   "outputs": [
    {
     "name": "stderr",
     "output_type": "stream",
     "text": [
      "C:\\Users\\saket\\AppData\\Local\\Temp\\ipykernel_9360\\1605042080.py:4: FutureWarning: The frame.append method is deprecated and will be removed from pandas in a future version. Use pandas.concat instead.\n",
      "  otherPlaces = otherPlaces.append(dataset[dataset['Destination_type']==arr1[i]])\n",
      "C:\\Users\\saket\\AppData\\Local\\Temp\\ipykernel_9360\\1605042080.py:4: FutureWarning: The frame.append method is deprecated and will be removed from pandas in a future version. Use pandas.concat instead.\n",
      "  otherPlaces = otherPlaces.append(dataset[dataset['Destination_type']==arr1[i]])\n",
      "C:\\Users\\saket\\AppData\\Local\\Temp\\ipykernel_9360\\1605042080.py:6: FutureWarning: The frame.append method is deprecated and will be removed from pandas in a future version. Use pandas.concat instead.\n",
      "  places=places.append(otherPlaces)\n"
     ]
    },
    {
     "data": {
      "text/html": [
       "<div>\n",
       "<style scoped>\n",
       "    .dataframe tbody tr th:only-of-type {\n",
       "        vertical-align: middle;\n",
       "    }\n",
       "\n",
       "    .dataframe tbody tr th {\n",
       "        vertical-align: top;\n",
       "    }\n",
       "\n",
       "    .dataframe thead th {\n",
       "        text-align: right;\n",
       "    }\n",
       "</style>\n",
       "<table border=\"1\" class=\"dataframe\">\n",
       "  <thead>\n",
       "    <tr style=\"text-align: right;\">\n",
       "      <th></th>\n",
       "      <th>city_name</th>\n",
       "      <th>Overview</th>\n",
       "      <th>Destination_type</th>\n",
       "      <th>Attraction</th>\n",
       "    </tr>\n",
       "  </thead>\n",
       "  <tbody>\n",
       "    <tr>\n",
       "      <th>4</th>\n",
       "      <td>5. Shimla</td>\n",
       "      <td>Often called the 'Queen of Hills', Shimla is a...</td>\n",
       "      <td>Hill Station</td>\n",
       "      <td>Shimla Attractions</td>\n",
       "    </tr>\n",
       "    <tr>\n",
       "      <th>6</th>\n",
       "      <td>7. Ooty</td>\n",
       "      <td>Often referred to as Queen of hill stations, O...</td>\n",
       "      <td>Hill Station</td>\n",
       "      <td>Ooty Attractions</td>\n",
       "    </tr>\n",
       "    <tr>\n",
       "      <th>10</th>\n",
       "      <td>11. Munnar</td>\n",
       "      <td>Situated at an altitude ranging from 5000 to 8...</td>\n",
       "      <td>Hill Station</td>\n",
       "      <td>Munnar Attractions</td>\n",
       "    </tr>\n",
       "    <tr>\n",
       "      <th>12</th>\n",
       "      <td>13. Manali</td>\n",
       "      <td>Manali is a breathtakingly beautiful hill stat...</td>\n",
       "      <td>Hill Station</td>\n",
       "      <td>Manali Attractions</td>\n",
       "    </tr>\n",
       "    <tr>\n",
       "      <th>16</th>\n",
       "      <td>17. Nainital</td>\n",
       "      <td>Situated at the Kumaon foothills of Himalayas,...</td>\n",
       "      <td>Hill Station</td>\n",
       "      <td>Nainital Attractions</td>\n",
       "    </tr>\n",
       "    <tr>\n",
       "      <th>...</th>\n",
       "      <td>...</td>\n",
       "      <td>...</td>\n",
       "      <td>...</td>\n",
       "      <td>...</td>\n",
       "    </tr>\n",
       "    <tr>\n",
       "      <th>89</th>\n",
       "      <td>90. Vrindavan</td>\n",
       "      <td>At a distance of 13 km from Mathura, 70 km fro...</td>\n",
       "      <td>Pilgrimage</td>\n",
       "      <td>Vrindavan Attractions</td>\n",
       "    </tr>\n",
       "    <tr>\n",
       "      <th>92</th>\n",
       "      <td>93. Murudeshwar</td>\n",
       "      <td>Murudeshwar is one of the most famous places t...</td>\n",
       "      <td>Pilgrimage</td>\n",
       "      <td>Murudeshwar Attractions</td>\n",
       "    </tr>\n",
       "    <tr>\n",
       "      <th>94</th>\n",
       "      <td>95. Udupi</td>\n",
       "      <td>Udupi is one of the most famous pilgrimage sit...</td>\n",
       "      <td>Pilgrimage</td>\n",
       "      <td>Udupi Attractions</td>\n",
       "    </tr>\n",
       "    <tr>\n",
       "      <th>95</th>\n",
       "      <td>96. Nashik</td>\n",
       "      <td>Nashik or Nasik is the third-largest city by p...</td>\n",
       "      <td>Pilgrimage</td>\n",
       "      <td>Nashik Attractions</td>\n",
       "    </tr>\n",
       "    <tr>\n",
       "      <th>99</th>\n",
       "      <td>100. Kumbakonam</td>\n",
       "      <td>Kumbakonam is an ancient temple town located a...</td>\n",
       "      <td>Pilgrimage</td>\n",
       "      <td>Kumbakonam Attractions</td>\n",
       "    </tr>\n",
       "  </tbody>\n",
       "</table>\n",
       "<p>63 rows × 4 columns</p>\n",
       "</div>"
      ],
      "text/plain": [
       "          city_name                                           Overview  \\\n",
       "4         5. Shimla  Often called the 'Queen of Hills', Shimla is a...   \n",
       "6           7. Ooty  Often referred to as Queen of hill stations, O...   \n",
       "10       11. Munnar  Situated at an altitude ranging from 5000 to 8...   \n",
       "12       13. Manali  Manali is a breathtakingly beautiful hill stat...   \n",
       "16     17. Nainital  Situated at the Kumaon foothills of Himalayas,...   \n",
       "..              ...                                                ...   \n",
       "89    90. Vrindavan  At a distance of 13 km from Mathura, 70 km fro...   \n",
       "92  93. Murudeshwar  Murudeshwar is one of the most famous places t...   \n",
       "94        95. Udupi  Udupi is one of the most famous pilgrimage sit...   \n",
       "95       96. Nashik  Nashik or Nasik is the third-largest city by p...   \n",
       "99  100. Kumbakonam  Kumbakonam is an ancient temple town located a...   \n",
       "\n",
       "   Destination_type               Attraction  \n",
       "4      Hill Station       Shimla Attractions  \n",
       "6      Hill Station         Ooty Attractions  \n",
       "10     Hill Station       Munnar Attractions  \n",
       "12     Hill Station       Manali Attractions  \n",
       "16     Hill Station     Nainital Attractions  \n",
       "..              ...                      ...  \n",
       "89       Pilgrimage    Vrindavan Attractions  \n",
       "92       Pilgrimage  Murudeshwar Attractions  \n",
       "94       Pilgrimage        Udupi Attractions  \n",
       "95       Pilgrimage       Nashik Attractions  \n",
       "99       Pilgrimage   Kumbakonam Attractions  \n",
       "\n",
       "[63 rows x 4 columns]"
      ]
     },
     "execution_count": 13,
     "metadata": {},
     "output_type": "execute_result"
    }
   ],
   "source": [
    "# Heritage\n",
    "otherPlaces=pd.DataFrame()\n",
    "for i in range(1,len(arr1)):\n",
    "    otherPlaces = otherPlaces.append(dataset[dataset['Destination_type']==arr1[i]])\n",
    "    # print(\"\\n\")\n",
    "places=places.append(otherPlaces)\n",
    "places"
   ]
  },
  {
   "cell_type": "code",
   "execution_count": 14,
   "metadata": {},
   "outputs": [
    {
     "name": "stderr",
     "output_type": "stream",
     "text": [
      "C:\\Users\\saket\\AppData\\Local\\Temp\\ipykernel_9360\\2121111525.py:1: FutureWarning: The frame.append method is deprecated and will be removed from pandas in a future version. Use pandas.concat instead.\n",
      "  places=places.append(dataset[dataset['Destination_type']==\"Historical & Heritage\"])\n"
     ]
    }
   ],
   "source": [
    "places=places.append(dataset[dataset['Destination_type']==\"Historical & Heritage\"])"
   ]
  },
  {
   "cell_type": "code",
   "execution_count": 15,
   "metadata": {},
   "outputs": [
    {
     "data": {
      "text/plain": [
       "92"
      ]
     },
     "execution_count": 15,
     "metadata": {},
     "output_type": "execute_result"
    }
   ],
   "source": [
    "len(places)"
   ]
  },
  {
   "cell_type": "code",
   "execution_count": 16,
   "metadata": {},
   "outputs": [],
   "source": [
    "places.rename(columns = {'city_name':'name','Attraction':\"description\",\"Overview\":\"summary\",\"Destination_type\":\"type\"}, inplace = True)"
   ]
  },
  {
   "cell_type": "code",
   "execution_count": 17,
   "metadata": {},
   "outputs": [],
   "source": [
    "places.to_csv(\"Tourist Attraction places\")"
   ]
  },
  {
   "cell_type": "code",
   "execution_count": 18,
   "metadata": {},
   "outputs": [
    {
     "data": {
      "text/plain": [
       "92"
      ]
     },
     "execution_count": 18,
     "metadata": {},
     "output_type": "execute_result"
    }
   ],
   "source": [
    "len(places)"
   ]
  },
  {
   "cell_type": "code",
   "execution_count": 20,
   "metadata": {},
   "outputs": [
    {
     "data": {
      "text/html": [
       "<div>\n",
       "<style scoped>\n",
       "    .dataframe tbody tr th:only-of-type {\n",
       "        vertical-align: middle;\n",
       "    }\n",
       "\n",
       "    .dataframe tbody tr th {\n",
       "        vertical-align: top;\n",
       "    }\n",
       "\n",
       "    .dataframe thead th {\n",
       "        text-align: right;\n",
       "    }\n",
       "</style>\n",
       "<table border=\"1\" class=\"dataframe\">\n",
       "  <thead>\n",
       "    <tr style=\"text-align: right;\">\n",
       "      <th></th>\n",
       "      <th>city_name</th>\n",
       "    </tr>\n",
       "  </thead>\n",
       "  <tbody>\n",
       "    <tr>\n",
       "      <th>0</th>\n",
       "      <td>1. Delhi City</td>\n",
       "    </tr>\n",
       "    <tr>\n",
       "      <th>1</th>\n",
       "      <td>2. Agra</td>\n",
       "    </tr>\n",
       "    <tr>\n",
       "      <th>2</th>\n",
       "      <td>3. Panjim</td>\n",
       "    </tr>\n",
       "    <tr>\n",
       "      <th>3</th>\n",
       "      <td>4. Varanasi</td>\n",
       "    </tr>\n",
       "    <tr>\n",
       "      <th>4</th>\n",
       "      <td>5. Shimla</td>\n",
       "    </tr>\n",
       "    <tr>\n",
       "      <th>...</th>\n",
       "      <td>...</td>\n",
       "    </tr>\n",
       "    <tr>\n",
       "      <th>95</th>\n",
       "      <td>96. Nashik</td>\n",
       "    </tr>\n",
       "    <tr>\n",
       "      <th>96</th>\n",
       "      <td>97. Gwalior</td>\n",
       "    </tr>\n",
       "    <tr>\n",
       "      <th>97</th>\n",
       "      <td>98. Chittorgarh</td>\n",
       "    </tr>\n",
       "    <tr>\n",
       "      <th>98</th>\n",
       "      <td>99. Lachung</td>\n",
       "    </tr>\n",
       "    <tr>\n",
       "      <th>99</th>\n",
       "      <td>100. Kumbakonam</td>\n",
       "    </tr>\n",
       "  </tbody>\n",
       "</table>\n",
       "<p>100 rows × 1 columns</p>\n",
       "</div>"
      ],
      "text/plain": [
       "          city_name\n",
       "0     1. Delhi City\n",
       "1           2. Agra\n",
       "2         3. Panjim\n",
       "3       4. Varanasi\n",
       "4         5. Shimla\n",
       "..              ...\n",
       "95       96. Nashik\n",
       "96      97. Gwalior\n",
       "97  98. Chittorgarh\n",
       "98      99. Lachung\n",
       "99  100. Kumbakonam\n",
       "\n",
       "[100 rows x 1 columns]"
      ]
     },
     "execution_count": 20,
     "metadata": {},
     "output_type": "execute_result"
    }
   ],
   "source": [
    "dataset[['city_name']]"
   ]
  },
  {
   "cell_type": "markdown",
   "metadata": {},
   "source": [
    "### Reading json file"
   ]
  },
  {
   "cell_type": "code",
   "execution_count": 2,
   "metadata": {},
   "outputs": [],
   "source": [
    "df_json=pd.read_json('data.json')"
   ]
  },
  {
   "cell_type": "code",
   "execution_count": 4,
   "metadata": {},
   "outputs": [],
   "source": [
    "excel=df_json.to_excel('store.xlsx')"
   ]
  },
  {
   "cell_type": "code",
   "execution_count": 5,
   "metadata": {},
   "outputs": [],
   "source": [
    "df2=pd.read_json('data.json')"
   ]
  },
  {
   "cell_type": "code",
   "execution_count": 19,
   "metadata": {},
   "outputs": [
    {
     "name": "stdout",
     "output_type": "stream",
     "text": [
      "['C:/Users/saket/Desktop/xwebsite/client/importdata\\\\store.xlsx', 'C:/Users/saket/Desktop/xwebsite/client/importdata\\\\store1.xlsx']\n",
      "[   Unnamed: 0     Shimla       Ooty     Munnar  Hyderabad     mysore  \\\n",
      "0           0  31.104153  11.412677  10.086996  17.360589  12.305183   \n",
      "1           1  77.170973  76.703050  77.060091  78.474061  76.655361   \n",
      "\n",
      "   mahabalipuram  kedarnath  Mahabaleshwar  Mussoorie  ...  Rann Of Kutch  \\\n",
      "0      12.619598  30.734561      17.893641  30.456901  ...      23.790559   \n",
      "1      80.193650  79.067320      73.613169  78.078291  ...      70.496816   \n",
      "\n",
      "   Tiruchirappalli    Alibaug    Ajmer    Bikaner  Chidambaram  \\\n",
      "0        10.804973  18.662728  26.4691  28.015929    11.410181   \n",
      "1        78.687030  72.878768  74.6390  73.317137    79.672220   \n",
      "\n",
      "   Shravanabelagola       Pune    Gwalior  Chittorgarh  \n",
      "0         12.858127  18.521428  26.203725    24.717797  \n",
      "1         76.487011  73.854454  78.157363    74.472103  \n",
      "\n",
      "[2 rows x 96 columns],    Unnamed: 0     Shimla       Ooty     Munnar  Hyderabad     mysore  \\\n",
      "0           0  31.104153  11.412677  10.086996  17.360589  12.305183   \n",
      "1           1  77.170973  76.703050  77.060091  78.474061  76.655361   \n",
      "\n",
      "   mahabalipuram  kedarnath  Mahabaleshwar  Mussoorie  ...  Rann Of Kutch  \\\n",
      "0      12.619598  30.734561      17.893641  30.456901  ...      23.790559   \n",
      "1      80.193650  79.067320      73.613169  78.078291  ...      70.496816   \n",
      "\n",
      "   Tiruchirappalli    Alibaug    Ajmer    Bikaner  Chidambaram  \\\n",
      "0        10.804973  18.662728  26.4691  28.015929    11.410181   \n",
      "1        78.687030  72.878768  74.6390  73.317137    79.672220   \n",
      "\n",
      "   Shravanabelagola       Pune    Gwalior  Chittorgarh  \n",
      "0         12.858127  18.521428  26.203725    24.717797  \n",
      "1         76.487011  73.854454  78.157363    74.472103  \n",
      "\n",
      "[2 rows x 96 columns]]\n"
     ]
    },
    {
     "name": "stderr",
     "output_type": "stream",
     "text": [
      "C:\\Users\\saket\\AppData\\Local\\Temp\\ipykernel_19104\\898854180.py:15: FutureWarning: The frame.append method is deprecated and will be removed from pandas in a future version. Use pandas.concat instead.\n",
      "  excl_merged = excl_merged.append(excl_file, ignore_index=True)\n"
     ]
    }
   ],
   "source": [
    "\n",
    "import glob\n",
    "import pandas as pd\n",
    "\n",
    "path = \"C:/Users/saket/Desktop/xwebsite/client/importdata\"\n",
    "file_list = glob.glob(path + \"/*.xlsx\")\n",
    "excl_list = []\n",
    "print(file_list)\n",
    "for file in file_list:\n",
    "\texcl_list.append(pd.read_excel(file))\n",
    "\n",
    "print(excl_list)\n",
    "excl_merged = pd.DataFrame()\n",
    "\n",
    "for excl_file in excl_list:\n",
    "\texcl_merged = excl_merged.append(excl_file, ignore_index=True)\n",
    "\n",
    "excl_merged.to_excel('final1.xlsx', index=False)\n"
   ]
  }
 ],
 "metadata": {
  "interpreter": {
   "hash": "8e284ee3255a07ad8bf76694974743c4c81cb57e7c969474d752d949b11d721e"
  },
  "kernelspec": {
   "display_name": "Python 3.9.13 64-bit",
   "language": "python",
   "name": "python3"
  },
  "language_info": {
   "codemirror_mode": {
    "name": "ipython",
    "version": 3
   },
   "file_extension": ".py",
   "mimetype": "text/x-python",
   "name": "python",
   "nbconvert_exporter": "python",
   "pygments_lexer": "ipython3",
   "version": "3.9.13"
  },
  "orig_nbformat": 4
 },
 "nbformat": 4,
 "nbformat_minor": 2
}
